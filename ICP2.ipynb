{
  "nbformat": 4,
  "nbformat_minor": 0,
  "metadata": {
    "colab": {
      "provenance": []
    },
    "kernelspec": {
      "name": "python3",
      "display_name": "Python 3"
    },
    "language_info": {
      "name": "python"
    }
  },
  "cells": [
    {
      "cell_type": "code",
      "execution_count": 2,
      "metadata": {
        "colab": {
          "base_uri": "https://localhost:8080/"
        },
        "id": "-ZbcjNpDXGad",
        "outputId": "958e71a7-84fe-45a8-cbdb-60eb336c56c7"
      },
      "outputs": [
        {
          "output_type": "stream",
          "name": "stdout",
          "text": [
            "Few benefits as full time employee.\n",
            "Average salary: 163750.0\n"
          ]
        }
      ],
      "source": [
        "class Employee:\n",
        "    # Creating a data member to count the number of Employees\n",
        "    no_of_employees = 0\n",
        "    # Initializing name, family, salary, department\n",
        "\n",
        "    def __init__(self, name, family_name, salary, department):\n",
        "        self.__name = name\n",
        "        self.__family_name = family_name\n",
        "        self.salary = salary\n",
        "        self.__department = department\n",
        "        Employee.no_of_employees += 1\n",
        "     #Creating a function to average salary\n",
        "    @staticmethod\n",
        "    def average_salary(employees):\n",
        "        sum = 0\n",
        "        for employee in employees:\n",
        "            sum += employee.salary\n",
        "        return sum / Employee.no_of_employees\n",
        "      #Creating a Fulltime Employee class\n",
        "class FulltimeEmployee(Employee):\n",
        "    def __init__(self, name, family_name, salary, department):\n",
        "        super().__init__(name, family_name, salary, department)\n",
        "    def full_time_benefits(self):\n",
        "        print(\"Few benefits as full time employee.\")\n",
        "# Creating the instances of Fulltime Employee class and Employee class and also calling their member functions.\n",
        "def main():\n",
        "    employees = []\n",
        "    fte1 = FulltimeEmployee(\"Employee1\", \"FamilyName1\", 130000, \"Management\")\n",
        "    fte1.full_time_benefits()\n",
        "    employees.append(fte1)\n",
        "    fte2 = FulltimeEmployee(\"Employee2\", \"FamilyName2\", 200000, \"RnD\")\n",
        "    employees.append(fte2)\n",
        "    emp1 = Employee(\"Employee3\", \"FamilyName3\", 180000, \"Marketing\")\n",
        "    employees.append(emp1)\n",
        "    emp2 = Employee(\"Employee4\", \"FamilyName4\", 145000, \"HR\")\n",
        "    employees.append(emp2)\n",
        "    print(\"Average salary:\", FulltimeEmployee.average_salary(employees))\n",
        "\n",
        "if __name__ == \"__main__\":\n",
        "    main()\n"
      ]
    },
    {
      "cell_type": "code",
      "source": [
        "import numpy as np\n",
        "\n",
        "#Creating a random vector of size 20\n",
        "v = np.random.uniform(1, 20, 20)\n",
        "\n",
        "v = v. reshape(4, 5)  # Reshape the array to 4 by 5\n",
        "\n",
        "print(v)\n",
        "\n",
        "v[np.arange(4), v.argmax(axis=1)]=0 # Replace the max value with 0 (axis=1)\n",
        "print(v)\n"
      ],
      "metadata": {
        "colab": {
          "base_uri": "https://localhost:8080/"
        },
        "id": "FtwBO26JZbdK",
        "outputId": "af842479-8701-489f-afb9-0e9a70e1b942"
      },
      "execution_count": 3,
      "outputs": [
        {
          "output_type": "stream",
          "name": "stdout",
          "text": [
            "[[ 4.84261277  4.47661723  1.59690016 10.07036674 17.03426337]\n",
            " [13.48046362  6.85322146 13.19054386 17.86265611 11.97630349]\n",
            " [ 1.55862204 13.69914291 18.92879603 19.7924077   1.79859625]\n",
            " [ 6.9021605   7.227354    6.14842717 16.65825659  8.95565875]]\n",
            "[[ 4.84261277  4.47661723  1.59690016 10.07036674  0.        ]\n",
            " [13.48046362  6.85322146 13.19054386  0.         11.97630349]\n",
            " [ 1.55862204 13.69914291 18.92879603  0.          1.79859625]\n",
            " [ 6.9021605   7.227354    6.14842717  0.          8.95565875]]\n"
          ]
        }
      ]
    }
  ]
}