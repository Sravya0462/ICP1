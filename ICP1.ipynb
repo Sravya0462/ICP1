def full_name(first_name,last_name):
  full_name = first_name + " " + last_name
  print(full_name)

first_name = input("enter your first name")
last_name = input("enter your last name")

full_name(first_name,last_name)



def string_alternative(full_name):
    return full_name[::2]

str = "Good Evening"
print(string_alternative(str))


def word_count_from_file(input_filename, output_filename):
    word_counts = {}


    with open(input_filename, 'r') as infile:
        lines = infile.readlines()

    for line in lines:
        words = line.strip().split()
        for word in words:
            word = word.lower()
            if word in word_counts:
                word_counts[word] += 1
            else:
                word_counts[word] = 1
    with open(output_filename, 'w') as outfile:
        for line in lines:
            outfile.write(line)

        outfile.write("\nWord_Count:\n")
        for word, count in word_counts.items():
            outfile.write(f"{word}: {count}\n")



input_filename = 'input.txt'
output_filename = 'output.txt'

word_count_from_file(input_filename, output_filename)



inches = [150, 155, 145, 148]

conversion = 2.54
result = [height * conversion for height in inches]
print("Heights in centimeters (using list comprehension):", result)



conversion = 2.54
result = []

for height in inches:
  height_cm = height * conversion
  result.append(height_cm)
print("Heights in centimeters (using loop):", result)
